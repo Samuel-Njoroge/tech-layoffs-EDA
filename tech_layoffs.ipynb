{
  "nbformat": 4,
  "nbformat_minor": 0,
  "metadata": {
    "colab": {
      "provenance": [],
      "mount_file_id": "1r2lwxSOsihF_XbeVe7RFDJj82xHVEVsz",
      "authorship_tag": "ABX9TyNaFjA/A/DOpnDt7u2LbdOa"
    },
    "kernelspec": {
      "name": "python3",
      "display_name": "Python 3"
    },
    "language_info": {
      "name": "python"
    }
  },
  "cells": [
    {
      "cell_type": "markdown",
      "source": [
        "# **TECHNOLOGY COMPANIES LAYOFFS (2022 - 2023) EXPLORATORY DATA ANALYSIS.**\n",
        "\n",
        "![layoff](https://www.genengnews.com/wp-content/uploads/2018/10/July15_2013_33196045_JobCutScissors_15jobcuttingcompanies_II1120923819.jpg)\n",
        "\n",
        "\n",
        "A layoff is an involuntary separation from work through no fault of employees, often initiated by the employer for economic reasons to cut costs. \n",
        "Since the start of mid 2022, a number of companies have conducted massive layoffs affecting a large group of individuals .\n",
        "### The dataset contains information from 477 Technology companies. \n",
        "#### The features are :\n",
        "1. company - The name of company where layoff took place.\n",
        "2. total_layoffs - Total number of employees affected by the layoff.\n",
        "3. 1mpacted_workforce_percentage - Percentage of layoffs expressed as percentage of total workers.\n",
        "4. reported_date - Date of layoff .\n",
        "5. industry - Industry where the company operates under.\n",
        "6. headquarter_location - Headquarters\n",
        "7. sources - Source of information\n",
        "8. status - Nature of company (Pubblic or Private)\n",
        "9. additional_notes - Additional information about the company."
      ],
      "metadata": {
        "id": "7KmViZsuHyeT"
      }
    },
    {
      "cell_type": "markdown",
      "source": [
        "#**1. Data Preprocessing.**"
      ],
      "metadata": {
        "id": "fAK2SlS2Sv-R"
      }
    },
    {
      "cell_type": "code",
      "execution_count": 149,
      "metadata": {
        "id": "a2fDtWEnHs4t"
      },
      "outputs": [],
      "source": [
        "# Importing all the required libraries for the EDA.\n",
        "\n",
        "from pandas_profiling import ProfileReport\n",
        "import matplotlib.pyplot as plt\n",
        "import seaborn as sns\n",
        "import pandas as pd\n",
        "import numpy as np\n",
        "%matplotlib inline"
      ]
    },
    {
      "cell_type": "code",
      "source": [
        "# Reading the layoffs data.\n",
        "\n",
        "layoffs_data = pd.read_csv('/content/drive/MyDrive/Colab Notebooks/tech_layoffs.csv')"
      ],
      "metadata": {
        "id": "WafBtpOZH5M9"
      },
      "execution_count": 150,
      "outputs": []
    },
    {
      "cell_type": "code",
      "source": [
        "# First 5 rows of the data.\n",
        "\n",
        "layoffs_data.head()"
      ],
      "metadata": {
        "colab": {
          "base_uri": "https://localhost:8080/",
          "height": 354
        },
        "id": "4Z4DiM_EH5PT",
        "outputId": "b8955840-3016-4f26-cda8-f55fa717f18e"
      },
      "execution_count": 151,
      "outputs": [
        {
          "output_type": "execute_result",
          "data": {
            "text/plain": [
              "          company total_layoffs impacted_workforce_percentage reported_date  \\\n",
              "0            C2FO            20                             2     12/9/2022   \n",
              "1        VideoAmp       Unclear                             2     9/19/2022   \n",
              "2        Amperity            13                             3     8/20/2022   \n",
              "3         Addepar            20                             3     1/18/2023   \n",
              "4  Thirty Madison            24                             3     5/13/2022   \n",
              "\n",
              "                  industry headquarter_location                       sources  \\\n",
              "0        Fintech, payments          Leawood, KS  Kansas City Business Journal   \n",
              "1    Advertising platforms          Los Angeles                  Company memo   \n",
              "2          Saas, analytics              Seattle                      Geekwire   \n",
              "3  fintech, data analytics    Mountain View, CA                       Fortune   \n",
              "4              Health Care             New York                         Axios   \n",
              "\n",
              "    status                                   additional_notes  \n",
              "0  Private                                                NaN  \n",
              "1  Private                                                NaN  \n",
              "2  Private                                                NaN  \n",
              "3  Private                                                NaN  \n",
              "4  Private  Per Axios, 22 of the employees laid off were f...  "
            ],
            "text/html": [
              "\n",
              "  <div id=\"df-9a267f6a-ec00-4073-995e-9968377451c9\">\n",
              "    <div class=\"colab-df-container\">\n",
              "      <div>\n",
              "<style scoped>\n",
              "    .dataframe tbody tr th:only-of-type {\n",
              "        vertical-align: middle;\n",
              "    }\n",
              "\n",
              "    .dataframe tbody tr th {\n",
              "        vertical-align: top;\n",
              "    }\n",
              "\n",
              "    .dataframe thead th {\n",
              "        text-align: right;\n",
              "    }\n",
              "</style>\n",
              "<table border=\"1\" class=\"dataframe\">\n",
              "  <thead>\n",
              "    <tr style=\"text-align: right;\">\n",
              "      <th></th>\n",
              "      <th>company</th>\n",
              "      <th>total_layoffs</th>\n",
              "      <th>impacted_workforce_percentage</th>\n",
              "      <th>reported_date</th>\n",
              "      <th>industry</th>\n",
              "      <th>headquarter_location</th>\n",
              "      <th>sources</th>\n",
              "      <th>status</th>\n",
              "      <th>additional_notes</th>\n",
              "    </tr>\n",
              "  </thead>\n",
              "  <tbody>\n",
              "    <tr>\n",
              "      <th>0</th>\n",
              "      <td>C2FO</td>\n",
              "      <td>20</td>\n",
              "      <td>2</td>\n",
              "      <td>12/9/2022</td>\n",
              "      <td>Fintech, payments</td>\n",
              "      <td>Leawood, KS</td>\n",
              "      <td>Kansas City Business Journal</td>\n",
              "      <td>Private</td>\n",
              "      <td>NaN</td>\n",
              "    </tr>\n",
              "    <tr>\n",
              "      <th>1</th>\n",
              "      <td>VideoAmp</td>\n",
              "      <td>Unclear</td>\n",
              "      <td>2</td>\n",
              "      <td>9/19/2022</td>\n",
              "      <td>Advertising platforms</td>\n",
              "      <td>Los Angeles</td>\n",
              "      <td>Company memo</td>\n",
              "      <td>Private</td>\n",
              "      <td>NaN</td>\n",
              "    </tr>\n",
              "    <tr>\n",
              "      <th>2</th>\n",
              "      <td>Amperity</td>\n",
              "      <td>13</td>\n",
              "      <td>3</td>\n",
              "      <td>8/20/2022</td>\n",
              "      <td>Saas, analytics</td>\n",
              "      <td>Seattle</td>\n",
              "      <td>Geekwire</td>\n",
              "      <td>Private</td>\n",
              "      <td>NaN</td>\n",
              "    </tr>\n",
              "    <tr>\n",
              "      <th>3</th>\n",
              "      <td>Addepar</td>\n",
              "      <td>20</td>\n",
              "      <td>3</td>\n",
              "      <td>1/18/2023</td>\n",
              "      <td>fintech, data analytics</td>\n",
              "      <td>Mountain View, CA</td>\n",
              "      <td>Fortune</td>\n",
              "      <td>Private</td>\n",
              "      <td>NaN</td>\n",
              "    </tr>\n",
              "    <tr>\n",
              "      <th>4</th>\n",
              "      <td>Thirty Madison</td>\n",
              "      <td>24</td>\n",
              "      <td>3</td>\n",
              "      <td>5/13/2022</td>\n",
              "      <td>Health Care</td>\n",
              "      <td>New York</td>\n",
              "      <td>Axios</td>\n",
              "      <td>Private</td>\n",
              "      <td>Per Axios, 22 of the employees laid off were f...</td>\n",
              "    </tr>\n",
              "  </tbody>\n",
              "</table>\n",
              "</div>\n",
              "      <button class=\"colab-df-convert\" onclick=\"convertToInteractive('df-9a267f6a-ec00-4073-995e-9968377451c9')\"\n",
              "              title=\"Convert this dataframe to an interactive table.\"\n",
              "              style=\"display:none;\">\n",
              "        \n",
              "  <svg xmlns=\"http://www.w3.org/2000/svg\" height=\"24px\"viewBox=\"0 0 24 24\"\n",
              "       width=\"24px\">\n",
              "    <path d=\"M0 0h24v24H0V0z\" fill=\"none\"/>\n",
              "    <path d=\"M18.56 5.44l.94 2.06.94-2.06 2.06-.94-2.06-.94-.94-2.06-.94 2.06-2.06.94zm-11 1L8.5 8.5l.94-2.06 2.06-.94-2.06-.94L8.5 2.5l-.94 2.06-2.06.94zm10 10l.94 2.06.94-2.06 2.06-.94-2.06-.94-.94-2.06-.94 2.06-2.06.94z\"/><path d=\"M17.41 7.96l-1.37-1.37c-.4-.4-.92-.59-1.43-.59-.52 0-1.04.2-1.43.59L10.3 9.45l-7.72 7.72c-.78.78-.78 2.05 0 2.83L4 21.41c.39.39.9.59 1.41.59.51 0 1.02-.2 1.41-.59l7.78-7.78 2.81-2.81c.8-.78.8-2.07 0-2.86zM5.41 20L4 18.59l7.72-7.72 1.47 1.35L5.41 20z\"/>\n",
              "  </svg>\n",
              "      </button>\n",
              "      \n",
              "  <style>\n",
              "    .colab-df-container {\n",
              "      display:flex;\n",
              "      flex-wrap:wrap;\n",
              "      gap: 12px;\n",
              "    }\n",
              "\n",
              "    .colab-df-convert {\n",
              "      background-color: #E8F0FE;\n",
              "      border: none;\n",
              "      border-radius: 50%;\n",
              "      cursor: pointer;\n",
              "      display: none;\n",
              "      fill: #1967D2;\n",
              "      height: 32px;\n",
              "      padding: 0 0 0 0;\n",
              "      width: 32px;\n",
              "    }\n",
              "\n",
              "    .colab-df-convert:hover {\n",
              "      background-color: #E2EBFA;\n",
              "      box-shadow: 0px 1px 2px rgba(60, 64, 67, 0.3), 0px 1px 3px 1px rgba(60, 64, 67, 0.15);\n",
              "      fill: #174EA6;\n",
              "    }\n",
              "\n",
              "    [theme=dark] .colab-df-convert {\n",
              "      background-color: #3B4455;\n",
              "      fill: #D2E3FC;\n",
              "    }\n",
              "\n",
              "    [theme=dark] .colab-df-convert:hover {\n",
              "      background-color: #434B5C;\n",
              "      box-shadow: 0px 1px 3px 1px rgba(0, 0, 0, 0.15);\n",
              "      filter: drop-shadow(0px 1px 2px rgba(0, 0, 0, 0.3));\n",
              "      fill: #FFFFFF;\n",
              "    }\n",
              "  </style>\n",
              "\n",
              "      <script>\n",
              "        const buttonEl =\n",
              "          document.querySelector('#df-9a267f6a-ec00-4073-995e-9968377451c9 button.colab-df-convert');\n",
              "        buttonEl.style.display =\n",
              "          google.colab.kernel.accessAllowed ? 'block' : 'none';\n",
              "\n",
              "        async function convertToInteractive(key) {\n",
              "          const element = document.querySelector('#df-9a267f6a-ec00-4073-995e-9968377451c9');\n",
              "          const dataTable =\n",
              "            await google.colab.kernel.invokeFunction('convertToInteractive',\n",
              "                                                     [key], {});\n",
              "          if (!dataTable) return;\n",
              "\n",
              "          const docLinkHtml = 'Like what you see? Visit the ' +\n",
              "            '<a target=\"_blank\" href=https://colab.research.google.com/notebooks/data_table.ipynb>data table notebook</a>'\n",
              "            + ' to learn more about interactive tables.';\n",
              "          element.innerHTML = '';\n",
              "          dataTable['output_type'] = 'display_data';\n",
              "          await google.colab.output.renderOutput(dataTable, element);\n",
              "          const docLink = document.createElement('div');\n",
              "          docLink.innerHTML = docLinkHtml;\n",
              "          element.appendChild(docLink);\n",
              "        }\n",
              "      </script>\n",
              "    </div>\n",
              "  </div>\n",
              "  "
            ]
          },
          "metadata": {},
          "execution_count": 151
        }
      ]
    },
    {
      "cell_type": "code",
      "source": [
        "# Size of the dataset.\n",
        "\n",
        "layoffs_data.shape"
      ],
      "metadata": {
        "colab": {
          "base_uri": "https://localhost:8080/"
        },
        "id": "20-X-LYbH5Ru",
        "outputId": "04a4833d-5be8-4839-d628-46dc2ee0ef72"
      },
      "execution_count": 152,
      "outputs": [
        {
          "output_type": "execute_result",
          "data": {
            "text/plain": [
              "(489, 9)"
            ]
          },
          "metadata": {},
          "execution_count": 152
        }
      ]
    },
    {
      "cell_type": "code",
      "source": [
        "# Summary statistics.\n",
        "\n",
        "layoffs_data.describe()"
      ],
      "metadata": {
        "colab": {
          "base_uri": "https://localhost:8080/",
          "height": 236
        },
        "id": "_Xg6AyDwH5UK",
        "outputId": "089b5e71-2130-4662-9ca6-bc9ef9d049c9"
      },
      "execution_count": 153,
      "outputs": [
        {
          "output_type": "execute_result",
          "data": {
            "text/plain": [
              "          company total_layoffs impacted_workforce_percentage reported_date  \\\n",
              "count         489           489                           489           489   \n",
              "unique        477           150                            50           187   \n",
              "top     DataRobot       Unclear                       Unclear     1/11/2023   \n",
              "freq            2           182                           133            12   \n",
              "\n",
              "       industry headquarter_location     sources   status  \\\n",
              "count       489                  489         489      489   \n",
              "unique      289                  134         221        2   \n",
              "top     Fintech        San Francisco  TechCrunch  Private   \n",
              "freq         24                  136          52      370   \n",
              "\n",
              "                                         additional_notes  \n",
              "count                                                  22  \n",
              "unique                                                 22  \n",
              "top     Per Axios, 22 of the employees laid off were f...  \n",
              "freq                                                    1  "
            ],
            "text/html": [
              "\n",
              "  <div id=\"df-401b22be-b859-4ddd-8774-de4d76a2d4a9\">\n",
              "    <div class=\"colab-df-container\">\n",
              "      <div>\n",
              "<style scoped>\n",
              "    .dataframe tbody tr th:only-of-type {\n",
              "        vertical-align: middle;\n",
              "    }\n",
              "\n",
              "    .dataframe tbody tr th {\n",
              "        vertical-align: top;\n",
              "    }\n",
              "\n",
              "    .dataframe thead th {\n",
              "        text-align: right;\n",
              "    }\n",
              "</style>\n",
              "<table border=\"1\" class=\"dataframe\">\n",
              "  <thead>\n",
              "    <tr style=\"text-align: right;\">\n",
              "      <th></th>\n",
              "      <th>company</th>\n",
              "      <th>total_layoffs</th>\n",
              "      <th>impacted_workforce_percentage</th>\n",
              "      <th>reported_date</th>\n",
              "      <th>industry</th>\n",
              "      <th>headquarter_location</th>\n",
              "      <th>sources</th>\n",
              "      <th>status</th>\n",
              "      <th>additional_notes</th>\n",
              "    </tr>\n",
              "  </thead>\n",
              "  <tbody>\n",
              "    <tr>\n",
              "      <th>count</th>\n",
              "      <td>489</td>\n",
              "      <td>489</td>\n",
              "      <td>489</td>\n",
              "      <td>489</td>\n",
              "      <td>489</td>\n",
              "      <td>489</td>\n",
              "      <td>489</td>\n",
              "      <td>489</td>\n",
              "      <td>22</td>\n",
              "    </tr>\n",
              "    <tr>\n",
              "      <th>unique</th>\n",
              "      <td>477</td>\n",
              "      <td>150</td>\n",
              "      <td>50</td>\n",
              "      <td>187</td>\n",
              "      <td>289</td>\n",
              "      <td>134</td>\n",
              "      <td>221</td>\n",
              "      <td>2</td>\n",
              "      <td>22</td>\n",
              "    </tr>\n",
              "    <tr>\n",
              "      <th>top</th>\n",
              "      <td>DataRobot</td>\n",
              "      <td>Unclear</td>\n",
              "      <td>Unclear</td>\n",
              "      <td>1/11/2023</td>\n",
              "      <td>Fintech</td>\n",
              "      <td>San Francisco</td>\n",
              "      <td>TechCrunch</td>\n",
              "      <td>Private</td>\n",
              "      <td>Per Axios, 22 of the employees laid off were f...</td>\n",
              "    </tr>\n",
              "    <tr>\n",
              "      <th>freq</th>\n",
              "      <td>2</td>\n",
              "      <td>182</td>\n",
              "      <td>133</td>\n",
              "      <td>12</td>\n",
              "      <td>24</td>\n",
              "      <td>136</td>\n",
              "      <td>52</td>\n",
              "      <td>370</td>\n",
              "      <td>1</td>\n",
              "    </tr>\n",
              "  </tbody>\n",
              "</table>\n",
              "</div>\n",
              "      <button class=\"colab-df-convert\" onclick=\"convertToInteractive('df-401b22be-b859-4ddd-8774-de4d76a2d4a9')\"\n",
              "              title=\"Convert this dataframe to an interactive table.\"\n",
              "              style=\"display:none;\">\n",
              "        \n",
              "  <svg xmlns=\"http://www.w3.org/2000/svg\" height=\"24px\"viewBox=\"0 0 24 24\"\n",
              "       width=\"24px\">\n",
              "    <path d=\"M0 0h24v24H0V0z\" fill=\"none\"/>\n",
              "    <path d=\"M18.56 5.44l.94 2.06.94-2.06 2.06-.94-2.06-.94-.94-2.06-.94 2.06-2.06.94zm-11 1L8.5 8.5l.94-2.06 2.06-.94-2.06-.94L8.5 2.5l-.94 2.06-2.06.94zm10 10l.94 2.06.94-2.06 2.06-.94-2.06-.94-.94-2.06-.94 2.06-2.06.94z\"/><path d=\"M17.41 7.96l-1.37-1.37c-.4-.4-.92-.59-1.43-.59-.52 0-1.04.2-1.43.59L10.3 9.45l-7.72 7.72c-.78.78-.78 2.05 0 2.83L4 21.41c.39.39.9.59 1.41.59.51 0 1.02-.2 1.41-.59l7.78-7.78 2.81-2.81c.8-.78.8-2.07 0-2.86zM5.41 20L4 18.59l7.72-7.72 1.47 1.35L5.41 20z\"/>\n",
              "  </svg>\n",
              "      </button>\n",
              "      \n",
              "  <style>\n",
              "    .colab-df-container {\n",
              "      display:flex;\n",
              "      flex-wrap:wrap;\n",
              "      gap: 12px;\n",
              "    }\n",
              "\n",
              "    .colab-df-convert {\n",
              "      background-color: #E8F0FE;\n",
              "      border: none;\n",
              "      border-radius: 50%;\n",
              "      cursor: pointer;\n",
              "      display: none;\n",
              "      fill: #1967D2;\n",
              "      height: 32px;\n",
              "      padding: 0 0 0 0;\n",
              "      width: 32px;\n",
              "    }\n",
              "\n",
              "    .colab-df-convert:hover {\n",
              "      background-color: #E2EBFA;\n",
              "      box-shadow: 0px 1px 2px rgba(60, 64, 67, 0.3), 0px 1px 3px 1px rgba(60, 64, 67, 0.15);\n",
              "      fill: #174EA6;\n",
              "    }\n",
              "\n",
              "    [theme=dark] .colab-df-convert {\n",
              "      background-color: #3B4455;\n",
              "      fill: #D2E3FC;\n",
              "    }\n",
              "\n",
              "    [theme=dark] .colab-df-convert:hover {\n",
              "      background-color: #434B5C;\n",
              "      box-shadow: 0px 1px 3px 1px rgba(0, 0, 0, 0.15);\n",
              "      filter: drop-shadow(0px 1px 2px rgba(0, 0, 0, 0.3));\n",
              "      fill: #FFFFFF;\n",
              "    }\n",
              "  </style>\n",
              "\n",
              "      <script>\n",
              "        const buttonEl =\n",
              "          document.querySelector('#df-401b22be-b859-4ddd-8774-de4d76a2d4a9 button.colab-df-convert');\n",
              "        buttonEl.style.display =\n",
              "          google.colab.kernel.accessAllowed ? 'block' : 'none';\n",
              "\n",
              "        async function convertToInteractive(key) {\n",
              "          const element = document.querySelector('#df-401b22be-b859-4ddd-8774-de4d76a2d4a9');\n",
              "          const dataTable =\n",
              "            await google.colab.kernel.invokeFunction('convertToInteractive',\n",
              "                                                     [key], {});\n",
              "          if (!dataTable) return;\n",
              "\n",
              "          const docLinkHtml = 'Like what you see? Visit the ' +\n",
              "            '<a target=\"_blank\" href=https://colab.research.google.com/notebooks/data_table.ipynb>data table notebook</a>'\n",
              "            + ' to learn more about interactive tables.';\n",
              "          element.innerHTML = '';\n",
              "          dataTable['output_type'] = 'display_data';\n",
              "          await google.colab.output.renderOutput(dataTable, element);\n",
              "          const docLink = document.createElement('div');\n",
              "          docLink.innerHTML = docLinkHtml;\n",
              "          element.appendChild(docLink);\n",
              "        }\n",
              "      </script>\n",
              "    </div>\n",
              "  </div>\n",
              "  "
            ]
          },
          "metadata": {},
          "execution_count": 153
        }
      ]
    },
    {
      "cell_type": "code",
      "source": [
        "# Features in the dataset.\n",
        "\n",
        "layoffs_data.info()"
      ],
      "metadata": {
        "colab": {
          "base_uri": "https://localhost:8080/"
        },
        "id": "yu2QDwXeH5Wb",
        "outputId": "d0a40d74-8476-4603-edb3-32fffe2add35"
      },
      "execution_count": 154,
      "outputs": [
        {
          "output_type": "stream",
          "name": "stdout",
          "text": [
            "<class 'pandas.core.frame.DataFrame'>\n",
            "RangeIndex: 489 entries, 0 to 488\n",
            "Data columns (total 9 columns):\n",
            " #   Column                         Non-Null Count  Dtype \n",
            "---  ------                         --------------  ----- \n",
            " 0   company                        489 non-null    object\n",
            " 1   total_layoffs                  489 non-null    object\n",
            " 2   impacted_workforce_percentage  489 non-null    object\n",
            " 3   reported_date                  489 non-null    object\n",
            " 4   industry                       489 non-null    object\n",
            " 5   headquarter_location           489 non-null    object\n",
            " 6   sources                        489 non-null    object\n",
            " 7   status                         489 non-null    object\n",
            " 8   additional_notes               22 non-null     object\n",
            "dtypes: object(9)\n",
            "memory usage: 34.5+ KB\n"
          ]
        }
      ]
    },
    {
      "cell_type": "code",
      "source": [
        "# Unique values in the industry column.\n",
        "\n",
        "layoffs_data['industry'].unique()"
      ],
      "metadata": {
        "colab": {
          "base_uri": "https://localhost:8080/"
        },
        "id": "bJKHkl4rJK-f",
        "outputId": "e67b031a-5536-4ce5-9275-e376f97ae158"
      },
      "execution_count": 155,
      "outputs": [
        {
          "output_type": "execute_result",
          "data": {
            "text/plain": [
              "array(['Fintech, payments', 'Advertising platforms', 'Saas, analytics',\n",
              "       'fintech, data analytics', 'Health Care', 'Marketing Tech',\n",
              "       'Cybersecurity', 'food and beverage, e-commerce',\n",
              "       'telehealth, wellness', 'Beauty tech',\n",
              "       'productivity, enterprise software', 'Crypto', 'Transportation',\n",
              "       'Food delivery, ecommerce', 'Logistics', 'Sales Tech',\n",
              "       'E-commerce', 'Blockchain, cryptocurrency', 'Media, E-commerce',\n",
              "       'enterprise software, productivity', 'InsurTech', 'video games',\n",
              "       'Fintech', 'E-commerce, retail', 'Artificial Intelligence',\n",
              "       'Shipping, Logistics', 'Productivity Tools',\n",
              "       'Cloud Infrastructure, health care', 'FinTech',\n",
              "       'Fintech, analytics', 'Robotics', 'fintech, personal finance',\n",
              "       'Cannabis', 'Video Games, AR', 'Media/entertainment',\n",
              "       'Media/Entertainment', 'HR Tech', 'Digital media, journalism',\n",
              "       'marketing, media', 'Health care, predictive analytics',\n",
              "       'engineering, software', 'SaaS, enterprise software',\n",
              "       'social impact, finance', 'Fintech, SaaS',\n",
              "       'Artificial Intelligence, Machine Learning',\n",
              "       'Data science, enterprise', 'Sales tech', 'SecOps, security',\n",
              "       'Natural Language Processing', 'e-commerce, retail',\n",
              "       'Video games, blockchain', 'Proptech', 'Digital marketing',\n",
              "       'indoor farming, agtech', 'Fintech, Crypto', 'PropTech',\n",
              "       'Cryptocurrency, FinTech', 'Cloud computing, e-commerce',\n",
              "       'Cloud computing, IT', 'information technology', 'Security',\n",
              "       'Cloud services, cybersecurity', 'Crowdfunding', 'Cryptocurrency',\n",
              "       'customer service, automation', 'Video Conferencing Software',\n",
              "       'fintech, money transfer', 'edtech, artificial intelligence',\n",
              "       'Privacy Tech, Marketing Tech', 'health care, wellness',\n",
              "       'Marketing Automation', 'security, enterprise software',\n",
              "       'Media, Content Creators', 'Media, news',\n",
              "       'Employee Benefits, HR Tech', 'health care, data collection',\n",
              "       'Insurtech, fintech', 'Artificial intelligence, recruiting',\n",
              "       'Talent marketplace', 'telehealth',\n",
              "       'developer APIs, enterprise software',\n",
              "       'Cybersecurity, enterprise software',\n",
              "       'content marketing, advertising', 'Enterprise applications, HR',\n",
              "       'Security, SaaS', 'Fitness', 'Elder Care', 'PropTech, Real Estate',\n",
              "       'Marketing', 'Communications Infrastructure',\n",
              "       'Mobile Apps, Gaming', 'Fashion, e-commerce', 'Social media',\n",
              "       'Customer service', 'Data Analytics', 'SMS Marketing',\n",
              "       'cybsersecurity, predictive analytics',\n",
              "       'Marketing Tech, SMS Marketing', 'Data storage',\n",
              "       'E-commerce, marketplace', 'CivicTech', 'Proptech, Real Estate',\n",
              "       'Real Estate, PropTech', 'CleanTech, energy', 'Edtech',\n",
              "       'robotics, AI', 'PropTech, InsurTech', 'shipping and logistics',\n",
              "       'health care', 'Data analytics, cloud services',\n",
              "       'personal health, wellness', 'Health care',\n",
              "       'AI, image recognition', 'Crypto, NFT marketplace',\n",
              "       'Media, Sports', 'Fintech, banking', 'News',\n",
              "       'health care, analytics', 'Email Software',\n",
              "       'Cryptocurrency, blockchain', 'Software', 'Saas, APIs',\n",
              "       'Productivity, task management', 'Enterprise Communication', 'AI',\n",
              "       'Transporation, Logistics', 'Social Media', 'Business development',\n",
              "       'EdTech', 'health care, cloud infrastructure', 'Publishing',\n",
              "       'AI, enterprise software', 'Food Tech, Software, Grocery Tech',\n",
              "       'social impact, company benefits', 'Collaboration, productivity',\n",
              "       'Identity verification', 'Pediatrics, telehealth',\n",
              "       'FinTech, PropTech', 'Enterprise Software', 'IoT', 'DevOps',\n",
              "       'pharmaceutical, health care', 'Analytics',\n",
              "       'Restaurant Tech, Food Tech', 'E-commerce, Logistics',\n",
              "       'Renewable energy, forestry', 'Home decor, PropTech',\n",
              "       'Transporation', 'Legal Tech', 'AgTech, food and beverage',\n",
              "       'Pharmacy, health care', 'Virtual Event', 'AR, health care',\n",
              "       'Artificial intelligence, machine learning', 'Hospitality',\n",
              "       'Health Care, Diagnostics', 'News, media',\n",
              "       'E-commerce, consumer lending', 'Wellness, consumer goods',\n",
              "       'AI, coding', 'hiring, HR', 'Vertical farming',\n",
              "       'FinTech, loan repayments', 'Coworking', 'food and beverage',\n",
              "       'IT, future of work', 'aerospace', 'eSports, Media',\n",
              "       'Productivity software', 'Recruiting', 'Beauty',\n",
              "       'health diagnostics', 'Fitness/Digital Health', 'Insurtech',\n",
              "       'Marijuana, marketing', 'Travel', 'Travel, hotels',\n",
              "       'Marketing tech', 'Surveillance', 'health care, clinical trials',\n",
              "       'Video production, marketing', 'Digital Marketing',\n",
              "       'proptech, advertising', 'Virtual Events',\n",
              "       'Grocery, e-commerce, delivery service', 'automotive',\n",
              "       'Networking, business development', 'Software, Emails, API',\n",
              "       'Career planning, social network',\n",
              "       'Speech recognition, artificial intelligence',\n",
              "       'Insurance, fintech', 'Solar, Software',\n",
              "       'Social media, creator economy', 'E-commerce, ticketing',\n",
              "       'consumer lending, fintech', 'productivity, marketing',\n",
              "       'human resources, SaaS', 'Pet tech, health care',\n",
              "       'E-commerce, DTC', 'Product design, apparel',\n",
              "       'Human resources, recruiting', 'cryptocurrency, blockchain',\n",
              "       'Proptech, hospitality', 'Insurtech, cloud computing',\n",
              "       'automation, IT', 'Retail, e-commerce', 'Media, video editing',\n",
              "       'IT, software', 'Adtech, digital marketing', 'AI, big data',\n",
              "       'retail, e-commerce', 'Networking', 'delivery, e-commerce',\n",
              "       'Health care, nutrition', 'Saas, enterprise software',\n",
              "       'SaaS, data', 'cryptocurrency', 'Foodtech', 'AI, Sales',\n",
              "       'Visual collaboration, Apps', 'Cloud Infrastructure',\n",
              "       'IT Infrastructure', 'Social Media, Audio', 'Product Design',\n",
              "       'Marketplace', 'Fintech, loans', 'CRM, IT',\n",
              "       'edtech, product management', 'CRM, enterprise software',\n",
              "       'data center, enterprise software', 'E-commerce, SaaS',\n",
              "       'Enterprise software, customer service',\n",
              "       'enterprise software, SaaS', 'food and beverage, restaurants',\n",
              "       'Content marketing', 'Music', 'Smart Home, Security',\n",
              "       'health care, telehealth', 'Health care, analytics',\n",
              "       'electric vehicle, transportation', 'Fintech, software',\n",
              "       'telecommunications, enterprise software', 'media, streaming',\n",
              "       'Big data, cloud computing', 'data analytics, national defense',\n",
              "       'Video Games', 'collaboration, enterprise software',\n",
              "       'Software, Biotech', 'e-signature',\n",
              "       'cybersecurity, cloud services', 'AI, analytics',\n",
              "       'artificial intelligence, robotics', 'Esports/Video Games',\n",
              "       'Conversational AI', 'Developer APIs, enterprise software',\n",
              "       'Mobile Apps, Developer Tools', '3D Printing',\n",
              "       'Enterprise software, e-commerce', 'analytics, SaaS',\n",
              "       'Cloud computing, web hosting', 'mobile apps', 'ecommerce, retail',\n",
              "       'E-commerce, fashion', 'Health care, pharmaceuticals',\n",
              "       'aerospace, space', 'E-commerce, Delivery', 'EdTech, IT',\n",
              "       'Insurtech, transportation', 'health care, health insurance',\n",
              "       'Fintech, AI', 'Fintech, proptech', 'consumer goods, vape pens',\n",
              "       'Gaming', 'Auto, E-commerce', 'Ecommerce, Fashion',\n",
              "       'AI, health care', 'Automotive, electric vehicles',\n",
              "       'WiFi, hardware', 'SaaS, meeting software',\n",
              "       'Automotive, Ecommerce', 'Marketing, software, SaaS',\n",
              "       'Health Care, Biotech', 'Big tech, internet services',\n",
              "       'Telecommunication, wireless',\n",
              "       'Enterprise software, Management information systems',\n",
              "       'cybersecurity, cloud infrastructure', 'Autonomous vehicles',\n",
              "       'Insurtech, machine learning', 'enterprise tech, analytics'],\n",
              "      dtype=object)"
            ]
          },
          "metadata": {},
          "execution_count": 155
        }
      ]
    },
    {
      "cell_type": "markdown",
      "source": [
        "# **2. Data Preparation.**"
      ],
      "metadata": {
        "id": "PYipZJBkTM8F"
      }
    },
    {
      "cell_type": "code",
      "source": [
        "# Checking any  empty values.\n",
        "\n",
        "layoffs_data.isnull().sum()"
      ],
      "metadata": {
        "colab": {
          "base_uri": "https://localhost:8080/"
        },
        "id": "znH4zrLzH5Yg",
        "outputId": "f0739119-ad32-4dde-de36-9b64911e307f"
      },
      "execution_count": 156,
      "outputs": [
        {
          "output_type": "execute_result",
          "data": {
            "text/plain": [
              "company                            0\n",
              "total_layoffs                      0\n",
              "impacted_workforce_percentage      0\n",
              "reported_date                      0\n",
              "industry                           0\n",
              "headquarter_location               0\n",
              "sources                            0\n",
              "status                             0\n",
              "additional_notes                 467\n",
              "dtype: int64"
            ]
          },
          "metadata": {},
          "execution_count": 156
        }
      ]
    },
    {
      "cell_type": "code",
      "source": [
        "# Dropping the additional_notes column\n",
        "\n",
        "layoffs_data.drop('additional_notes', axis = 1)"
      ],
      "metadata": {
        "colab": {
          "base_uri": "https://localhost:8080/",
          "height": 537
        },
        "id": "U9sORy6tUFGL",
        "outputId": "5deab50a-5c00-4e8d-fd2b-09546744d779"
      },
      "execution_count": 157,
      "outputs": [
        {
          "output_type": "execute_result",
          "data": {
            "text/plain": [
              "            company total_layoffs impacted_workforce_percentage reported_date  \\\n",
              "0              C2FO            20                             2     12/9/2022   \n",
              "1          VideoAmp       Unclear                             2     9/19/2022   \n",
              "2          Amperity            13                             3     8/20/2022   \n",
              "3           Addepar            20                             3     1/18/2023   \n",
              "4    Thirty Madison            24                             3     5/13/2022   \n",
              "..              ...           ...                           ...           ...   \n",
              "484      Salesforce          9090                       Unclear      1/4/2023   \n",
              "485          Oracle       Unclear                       Unclear      8/1/2022   \n",
              "486      LivePerson       Unclear                       Unclear     9/15/2022   \n",
              "487          Skillz       Unclear                       Unclear     8/29/2022   \n",
              "488       Blueboard       Unclear                       Unclear     11/3/2022   \n",
              "\n",
              "                       industry headquarter_location  \\\n",
              "0             Fintech, payments          Leawood, KS   \n",
              "1         Advertising platforms          Los Angeles   \n",
              "2               Saas, analytics              Seattle   \n",
              "3       fintech, data analytics    Mountain View, CA   \n",
              "4                   Health Care             New York   \n",
              "..                          ...                  ...   \n",
              "484  enterprise tech, analytics        San Francisco   \n",
              "485   SaaS, enterprise software               Austin   \n",
              "486            Customer service             New York   \n",
              "487         Mobile Apps, Gaming        San Francisco   \n",
              "488         Enterprise Software        San Francisco   \n",
              "\n",
              "                          sources   status  \n",
              "0    Kansas City Business Journal  Private  \n",
              "1                    Company memo  Private  \n",
              "2                        Geekwire  Private  \n",
              "3                         Fortune  Private  \n",
              "4                           Axios  Private  \n",
              "..                            ...      ...  \n",
              "484                New York Times   Public  \n",
              "485               The Information   Public  \n",
              "486                      LinkedIn   Public  \n",
              "487                 Seeking Alpha   Public  \n",
              "488              LinkedIn reports  Private  \n",
              "\n",
              "[489 rows x 8 columns]"
            ],
            "text/html": [
              "\n",
              "  <div id=\"df-6b4edaa9-1bf7-4a89-b6e5-9871f3ad75a5\">\n",
              "    <div class=\"colab-df-container\">\n",
              "      <div>\n",
              "<style scoped>\n",
              "    .dataframe tbody tr th:only-of-type {\n",
              "        vertical-align: middle;\n",
              "    }\n",
              "\n",
              "    .dataframe tbody tr th {\n",
              "        vertical-align: top;\n",
              "    }\n",
              "\n",
              "    .dataframe thead th {\n",
              "        text-align: right;\n",
              "    }\n",
              "</style>\n",
              "<table border=\"1\" class=\"dataframe\">\n",
              "  <thead>\n",
              "    <tr style=\"text-align: right;\">\n",
              "      <th></th>\n",
              "      <th>company</th>\n",
              "      <th>total_layoffs</th>\n",
              "      <th>impacted_workforce_percentage</th>\n",
              "      <th>reported_date</th>\n",
              "      <th>industry</th>\n",
              "      <th>headquarter_location</th>\n",
              "      <th>sources</th>\n",
              "      <th>status</th>\n",
              "    </tr>\n",
              "  </thead>\n",
              "  <tbody>\n",
              "    <tr>\n",
              "      <th>0</th>\n",
              "      <td>C2FO</td>\n",
              "      <td>20</td>\n",
              "      <td>2</td>\n",
              "      <td>12/9/2022</td>\n",
              "      <td>Fintech, payments</td>\n",
              "      <td>Leawood, KS</td>\n",
              "      <td>Kansas City Business Journal</td>\n",
              "      <td>Private</td>\n",
              "    </tr>\n",
              "    <tr>\n",
              "      <th>1</th>\n",
              "      <td>VideoAmp</td>\n",
              "      <td>Unclear</td>\n",
              "      <td>2</td>\n",
              "      <td>9/19/2022</td>\n",
              "      <td>Advertising platforms</td>\n",
              "      <td>Los Angeles</td>\n",
              "      <td>Company memo</td>\n",
              "      <td>Private</td>\n",
              "    </tr>\n",
              "    <tr>\n",
              "      <th>2</th>\n",
              "      <td>Amperity</td>\n",
              "      <td>13</td>\n",
              "      <td>3</td>\n",
              "      <td>8/20/2022</td>\n",
              "      <td>Saas, analytics</td>\n",
              "      <td>Seattle</td>\n",
              "      <td>Geekwire</td>\n",
              "      <td>Private</td>\n",
              "    </tr>\n",
              "    <tr>\n",
              "      <th>3</th>\n",
              "      <td>Addepar</td>\n",
              "      <td>20</td>\n",
              "      <td>3</td>\n",
              "      <td>1/18/2023</td>\n",
              "      <td>fintech, data analytics</td>\n",
              "      <td>Mountain View, CA</td>\n",
              "      <td>Fortune</td>\n",
              "      <td>Private</td>\n",
              "    </tr>\n",
              "    <tr>\n",
              "      <th>4</th>\n",
              "      <td>Thirty Madison</td>\n",
              "      <td>24</td>\n",
              "      <td>3</td>\n",
              "      <td>5/13/2022</td>\n",
              "      <td>Health Care</td>\n",
              "      <td>New York</td>\n",
              "      <td>Axios</td>\n",
              "      <td>Private</td>\n",
              "    </tr>\n",
              "    <tr>\n",
              "      <th>...</th>\n",
              "      <td>...</td>\n",
              "      <td>...</td>\n",
              "      <td>...</td>\n",
              "      <td>...</td>\n",
              "      <td>...</td>\n",
              "      <td>...</td>\n",
              "      <td>...</td>\n",
              "      <td>...</td>\n",
              "    </tr>\n",
              "    <tr>\n",
              "      <th>484</th>\n",
              "      <td>Salesforce</td>\n",
              "      <td>9090</td>\n",
              "      <td>Unclear</td>\n",
              "      <td>1/4/2023</td>\n",
              "      <td>enterprise tech, analytics</td>\n",
              "      <td>San Francisco</td>\n",
              "      <td>New York Times</td>\n",
              "      <td>Public</td>\n",
              "    </tr>\n",
              "    <tr>\n",
              "      <th>485</th>\n",
              "      <td>Oracle</td>\n",
              "      <td>Unclear</td>\n",
              "      <td>Unclear</td>\n",
              "      <td>8/1/2022</td>\n",
              "      <td>SaaS, enterprise software</td>\n",
              "      <td>Austin</td>\n",
              "      <td>The Information</td>\n",
              "      <td>Public</td>\n",
              "    </tr>\n",
              "    <tr>\n",
              "      <th>486</th>\n",
              "      <td>LivePerson</td>\n",
              "      <td>Unclear</td>\n",
              "      <td>Unclear</td>\n",
              "      <td>9/15/2022</td>\n",
              "      <td>Customer service</td>\n",
              "      <td>New York</td>\n",
              "      <td>LinkedIn</td>\n",
              "      <td>Public</td>\n",
              "    </tr>\n",
              "    <tr>\n",
              "      <th>487</th>\n",
              "      <td>Skillz</td>\n",
              "      <td>Unclear</td>\n",
              "      <td>Unclear</td>\n",
              "      <td>8/29/2022</td>\n",
              "      <td>Mobile Apps, Gaming</td>\n",
              "      <td>San Francisco</td>\n",
              "      <td>Seeking Alpha</td>\n",
              "      <td>Public</td>\n",
              "    </tr>\n",
              "    <tr>\n",
              "      <th>488</th>\n",
              "      <td>Blueboard</td>\n",
              "      <td>Unclear</td>\n",
              "      <td>Unclear</td>\n",
              "      <td>11/3/2022</td>\n",
              "      <td>Enterprise Software</td>\n",
              "      <td>San Francisco</td>\n",
              "      <td>LinkedIn reports</td>\n",
              "      <td>Private</td>\n",
              "    </tr>\n",
              "  </tbody>\n",
              "</table>\n",
              "<p>489 rows × 8 columns</p>\n",
              "</div>\n",
              "      <button class=\"colab-df-convert\" onclick=\"convertToInteractive('df-6b4edaa9-1bf7-4a89-b6e5-9871f3ad75a5')\"\n",
              "              title=\"Convert this dataframe to an interactive table.\"\n",
              "              style=\"display:none;\">\n",
              "        \n",
              "  <svg xmlns=\"http://www.w3.org/2000/svg\" height=\"24px\"viewBox=\"0 0 24 24\"\n",
              "       width=\"24px\">\n",
              "    <path d=\"M0 0h24v24H0V0z\" fill=\"none\"/>\n",
              "    <path d=\"M18.56 5.44l.94 2.06.94-2.06 2.06-.94-2.06-.94-.94-2.06-.94 2.06-2.06.94zm-11 1L8.5 8.5l.94-2.06 2.06-.94-2.06-.94L8.5 2.5l-.94 2.06-2.06.94zm10 10l.94 2.06.94-2.06 2.06-.94-2.06-.94-.94-2.06-.94 2.06-2.06.94z\"/><path d=\"M17.41 7.96l-1.37-1.37c-.4-.4-.92-.59-1.43-.59-.52 0-1.04.2-1.43.59L10.3 9.45l-7.72 7.72c-.78.78-.78 2.05 0 2.83L4 21.41c.39.39.9.59 1.41.59.51 0 1.02-.2 1.41-.59l7.78-7.78 2.81-2.81c.8-.78.8-2.07 0-2.86zM5.41 20L4 18.59l7.72-7.72 1.47 1.35L5.41 20z\"/>\n",
              "  </svg>\n",
              "      </button>\n",
              "      \n",
              "  <style>\n",
              "    .colab-df-container {\n",
              "      display:flex;\n",
              "      flex-wrap:wrap;\n",
              "      gap: 12px;\n",
              "    }\n",
              "\n",
              "    .colab-df-convert {\n",
              "      background-color: #E8F0FE;\n",
              "      border: none;\n",
              "      border-radius: 50%;\n",
              "      cursor: pointer;\n",
              "      display: none;\n",
              "      fill: #1967D2;\n",
              "      height: 32px;\n",
              "      padding: 0 0 0 0;\n",
              "      width: 32px;\n",
              "    }\n",
              "\n",
              "    .colab-df-convert:hover {\n",
              "      background-color: #E2EBFA;\n",
              "      box-shadow: 0px 1px 2px rgba(60, 64, 67, 0.3), 0px 1px 3px 1px rgba(60, 64, 67, 0.15);\n",
              "      fill: #174EA6;\n",
              "    }\n",
              "\n",
              "    [theme=dark] .colab-df-convert {\n",
              "      background-color: #3B4455;\n",
              "      fill: #D2E3FC;\n",
              "    }\n",
              "\n",
              "    [theme=dark] .colab-df-convert:hover {\n",
              "      background-color: #434B5C;\n",
              "      box-shadow: 0px 1px 3px 1px rgba(0, 0, 0, 0.15);\n",
              "      filter: drop-shadow(0px 1px 2px rgba(0, 0, 0, 0.3));\n",
              "      fill: #FFFFFF;\n",
              "    }\n",
              "  </style>\n",
              "\n",
              "      <script>\n",
              "        const buttonEl =\n",
              "          document.querySelector('#df-6b4edaa9-1bf7-4a89-b6e5-9871f3ad75a5 button.colab-df-convert');\n",
              "        buttonEl.style.display =\n",
              "          google.colab.kernel.accessAllowed ? 'block' : 'none';\n",
              "\n",
              "        async function convertToInteractive(key) {\n",
              "          const element = document.querySelector('#df-6b4edaa9-1bf7-4a89-b6e5-9871f3ad75a5');\n",
              "          const dataTable =\n",
              "            await google.colab.kernel.invokeFunction('convertToInteractive',\n",
              "                                                     [key], {});\n",
              "          if (!dataTable) return;\n",
              "\n",
              "          const docLinkHtml = 'Like what you see? Visit the ' +\n",
              "            '<a target=\"_blank\" href=https://colab.research.google.com/notebooks/data_table.ipynb>data table notebook</a>'\n",
              "            + ' to learn more about interactive tables.';\n",
              "          element.innerHTML = '';\n",
              "          dataTable['output_type'] = 'display_data';\n",
              "          await google.colab.output.renderOutput(dataTable, element);\n",
              "          const docLink = document.createElement('div');\n",
              "          docLink.innerHTML = docLinkHtml;\n",
              "          element.appendChild(docLink);\n",
              "        }\n",
              "      </script>\n",
              "    </div>\n",
              "  </div>\n",
              "  "
            ]
          },
          "metadata": {},
          "execution_count": 157
        }
      ]
    },
    {
      "cell_type": "code",
      "source": [
        "# Checking the data types\n",
        "\n",
        "layoffs_data.info()"
      ],
      "metadata": {
        "colab": {
          "base_uri": "https://localhost:8080/"
        },
        "id": "chYQ_ybGVnM3",
        "outputId": "def4cff8-c77f-40ae-c734-47cf6a9f9349"
      },
      "execution_count": 158,
      "outputs": [
        {
          "output_type": "stream",
          "name": "stdout",
          "text": [
            "<class 'pandas.core.frame.DataFrame'>\n",
            "RangeIndex: 489 entries, 0 to 488\n",
            "Data columns (total 9 columns):\n",
            " #   Column                         Non-Null Count  Dtype \n",
            "---  ------                         --------------  ----- \n",
            " 0   company                        489 non-null    object\n",
            " 1   total_layoffs                  489 non-null    object\n",
            " 2   impacted_workforce_percentage  489 non-null    object\n",
            " 3   reported_date                  489 non-null    object\n",
            " 4   industry                       489 non-null    object\n",
            " 5   headquarter_location           489 non-null    object\n",
            " 6   sources                        489 non-null    object\n",
            " 7   status                         489 non-null    object\n",
            " 8   additional_notes               22 non-null     object\n",
            "dtypes: object(9)\n",
            "memory usage: 34.5+ KB\n"
          ]
        }
      ]
    },
    {
      "cell_type": "code",
      "source": [
        "# Converting the reported_date to date\n",
        "\n",
        "layoffs_data['reported_date'] = pd.to_datetime(layoffs_data['reported_date'])\n",
        "layoffs_data.info()"
      ],
      "metadata": {
        "colab": {
          "base_uri": "https://localhost:8080/"
        },
        "id": "d99dvgNKVxA9",
        "outputId": "2b19094e-696d-40a6-dc40-74f726d66f24"
      },
      "execution_count": 159,
      "outputs": [
        {
          "output_type": "stream",
          "name": "stdout",
          "text": [
            "<class 'pandas.core.frame.DataFrame'>\n",
            "RangeIndex: 489 entries, 0 to 488\n",
            "Data columns (total 9 columns):\n",
            " #   Column                         Non-Null Count  Dtype         \n",
            "---  ------                         --------------  -----         \n",
            " 0   company                        489 non-null    object        \n",
            " 1   total_layoffs                  489 non-null    object        \n",
            " 2   impacted_workforce_percentage  489 non-null    object        \n",
            " 3   reported_date                  489 non-null    datetime64[ns]\n",
            " 4   industry                       489 non-null    object        \n",
            " 5   headquarter_location           489 non-null    object        \n",
            " 6   sources                        489 non-null    object        \n",
            " 7   status                         489 non-null    object        \n",
            " 8   additional_notes               22 non-null     object        \n",
            "dtypes: datetime64[ns](1), object(8)\n",
            "memory usage: 34.5+ KB\n"
          ]
        }
      ]
    },
    {
      "cell_type": "markdown",
      "source": [
        "# **3. Data Visualization.**"
      ],
      "metadata": {
        "id": "-LkbKXfZXMgW"
      }
    },
    {
      "cell_type": "code",
      "source": [
        "# Number of people laid off at once in different companies.\n",
        "\n",
        "layoffs_data['total_layoffs'].value_counts().head(10).plot(kind = 'barh')\n",
        "\n",
        "plt.title('Number of people laid at once in different companies.')\n",
        "plt.xlabel('Number of companies.')\n",
        "plt.ylabel('Number of people per layoff.')"
      ],
      "metadata": {
        "colab": {
          "base_uri": "https://localhost:8080/",
          "height": 315
        },
        "id": "Z94Wdqgjbwp9",
        "outputId": "5688d685-bdd4-493d-c09a-579b4afc6ae9"
      },
      "execution_count": 160,
      "outputs": [
        {
          "output_type": "execute_result",
          "data": {
            "text/plain": [
              "Text(0, 0.5, 'Number of people per layoff.')"
            ]
          },
          "metadata": {},
          "execution_count": 160
        },
        {
          "output_type": "display_data",
          "data": {
            "text/plain": [
              "<Figure size 432x288 with 1 Axes>"
            ],
            "image/png": "[encoded data removed]"
          },
          "metadata": {
            "needs_background": "light"
          }
        }
      ]
    },
    {
      "cell_type": "code",
      "source": [
        "# Top 10  industries to conduct layoffs.\n",
        "\n",
        "layoffs_data['industry'].value_counts().head(10).plot(kind = 'pie')\n",
        "\n",
        "plt.title('Layoffs by industries')"
      ],
      "metadata": {
        "colab": {
          "base_uri": "https://localhost:8080/",
          "height": 280
        },
        "id": "yw7iFOsAJLQp",
        "outputId": "2eacf113-e65d-458a-addb-c0013db68542"
      },
      "execution_count": 161,
      "outputs": [
        {
          "output_type": "execute_result",
          "data": {
            "text/plain": [
              "Text(0.5, 1.0, 'Layoffs by industries')"
            ]
          },
          "metadata": {},
          "execution_count": 161
        },
        {
          "output_type": "display_data",
          "data": {
            "text/plain": [
              "<Figure size 432x288 with 1 Axes>"
            ],
            "image/png": "[encoded data removed]"
          },
          "metadata": {}
        }
      ]
    },
    {
      "cell_type": "code",
      "source": [
        "# Total layoffs by companies in the Fintech Industry\n",
        "\n",
        "fintech_layoffs = layoffs_data.query('industry == \"FinTech\"')\n",
        "fintech_layoffs"
      ],
      "metadata": {
        "colab": {
          "base_uri": "https://localhost:8080/",
          "height": 313
        },
        "id": "fUmGtVRgXWH8",
        "outputId": "4187c002-2308-4408-9017-0275315a3484"
      },
      "execution_count": 162,
      "outputs": [
        {
          "output_type": "execute_result",
          "data": {
            "text/plain": [
              "        company total_layoffs impacted_workforce_percentage reported_date  \\\n",
              "37       Albert            20                             8    2022-06-10   \n",
              "57        TIFIN            21                            10    2022-06-14   \n",
              "73      Tipalti           123                            11    2023-01-11   \n",
              "133      Amount       Unclear                            18    2022-06-27   \n",
              "196        AtoB            32                            30    2022-10-19   \n",
              "202        Bolt           250                            33    2022-05-25   \n",
              "263  Progrexion           100                       Unclear    2022-06-07   \n",
              "\n",
              "    industry headquarter_location          sources   status additional_notes  \n",
              "37   FinTech          Los Angeles           dot.LA  Private              NaN  \n",
              "57   FinTech              Boulder            Axios  Private              NaN  \n",
              "73   FinTech            San Mateo     Calcalistech  Private              NaN  \n",
              "133  FinTech              Chicago       TechCrunch  Private              NaN  \n",
              "196  FinTech        San Francisco           SFGate  Private              NaN  \n",
              "202  FinTech        San Francisco          Fortune  Private              NaN  \n",
              "263  FinTech       Salt Lake City  Crunchbase News  Private              NaN  "
            ],
            "text/html": [
              "\n",
              "  <div id=\"df-f3baebdc-acf7-4a02-acaf-779f3efec407\">\n",
              "    <div class=\"colab-df-container\">\n",
              "      <div>\n",
              "<style scoped>\n",
              "    .dataframe tbody tr th:only-of-type {\n",
              "        vertical-align: middle;\n",
              "    }\n",
              "\n",
              "    .dataframe tbody tr th {\n",
              "        vertical-align: top;\n",
              "    }\n",
              "\n",
              "    .dataframe thead th {\n",
              "        text-align: right;\n",
              "    }\n",
              "</style>\n",
              "<table border=\"1\" class=\"dataframe\">\n",
              "  <thead>\n",
              "    <tr style=\"text-align: right;\">\n",
              "      <th></th>\n",
              "      <th>company</th>\n",
              "      <th>total_layoffs</th>\n",
              "      <th>impacted_workforce_percentage</th>\n",
              "      <th>reported_date</th>\n",
              "      <th>industry</th>\n",
              "      <th>headquarter_location</th>\n",
              "      <th>sources</th>\n",
              "      <th>status</th>\n",
              "      <th>additional_notes</th>\n",
              "    </tr>\n",
              "  </thead>\n",
              "  <tbody>\n",
              "    <tr>\n",
              "      <th>37</th>\n",
              "      <td>Albert</td>\n",
              "      <td>20</td>\n",
              "      <td>8</td>\n",
              "      <td>2022-06-10</td>\n",
              "      <td>FinTech</td>\n",
              "      <td>Los Angeles</td>\n",
              "      <td>dot.LA</td>\n",
              "      <td>Private</td>\n",
              "      <td>NaN</td>\n",
              "    </tr>\n",
              "    <tr>\n",
              "      <th>57</th>\n",
              "      <td>TIFIN</td>\n",
              "      <td>21</td>\n",
              "      <td>10</td>\n",
              "      <td>2022-06-14</td>\n",
              "      <td>FinTech</td>\n",
              "      <td>Boulder</td>\n",
              "      <td>Axios</td>\n",
              "      <td>Private</td>\n",
              "      <td>NaN</td>\n",
              "    </tr>\n",
              "    <tr>\n",
              "      <th>73</th>\n",
              "      <td>Tipalti</td>\n",
              "      <td>123</td>\n",
              "      <td>11</td>\n",
              "      <td>2023-01-11</td>\n",
              "      <td>FinTech</td>\n",
              "      <td>San Mateo</td>\n",
              "      <td>Calcalistech</td>\n",
              "      <td>Private</td>\n",
              "      <td>NaN</td>\n",
              "    </tr>\n",
              "    <tr>\n",
              "      <th>133</th>\n",
              "      <td>Amount</td>\n",
              "      <td>Unclear</td>\n",
              "      <td>18</td>\n",
              "      <td>2022-06-27</td>\n",
              "      <td>FinTech</td>\n",
              "      <td>Chicago</td>\n",
              "      <td>TechCrunch</td>\n",
              "      <td>Private</td>\n",
              "      <td>NaN</td>\n",
              "    </tr>\n",
              "    <tr>\n",
              "      <th>196</th>\n",
              "      <td>AtoB</td>\n",
              "      <td>32</td>\n",
              "      <td>30</td>\n",
              "      <td>2022-10-19</td>\n",
              "      <td>FinTech</td>\n",
              "      <td>San Francisco</td>\n",
              "      <td>SFGate</td>\n",
              "      <td>Private</td>\n",
              "      <td>NaN</td>\n",
              "    </tr>\n",
              "    <tr>\n",
              "      <th>202</th>\n",
              "      <td>Bolt</td>\n",
              "      <td>250</td>\n",
              "      <td>33</td>\n",
              "      <td>2022-05-25</td>\n",
              "      <td>FinTech</td>\n",
              "      <td>San Francisco</td>\n",
              "      <td>Fortune</td>\n",
              "      <td>Private</td>\n",
              "      <td>NaN</td>\n",
              "    </tr>\n",
              "    <tr>\n",
              "      <th>263</th>\n",
              "      <td>Progrexion</td>\n",
              "      <td>100</td>\n",
              "      <td>Unclear</td>\n",
              "      <td>2022-06-07</td>\n",
              "      <td>FinTech</td>\n",
              "      <td>Salt Lake City</td>\n",
              "      <td>Crunchbase News</td>\n",
              "      <td>Private</td>\n",
              "      <td>NaN</td>\n",
              "    </tr>\n",
              "  </tbody>\n",
              "</table>\n",
              "</div>\n",
              "      <button class=\"colab-df-convert\" onclick=\"convertToInteractive('df-f3baebdc-acf7-4a02-acaf-779f3efec407')\"\n",
              "              title=\"Convert this dataframe to an interactive table.\"\n",
              "              style=\"display:none;\">\n",
              "        \n",
              "  <svg xmlns=\"http://www.w3.org/2000/svg\" height=\"24px\"viewBox=\"0 0 24 24\"\n",
              "       width=\"24px\">\n",
              "    <path d=\"M0 0h24v24H0V0z\" fill=\"none\"/>\n",
              "    <path d=\"M18.56 5.44l.94 2.06.94-2.06 2.06-.94-2.06-.94-.94-2.06-.94 2.06-2.06.94zm-11 1L8.5 8.5l.94-2.06 2.06-.94-2.06-.94L8.5 2.5l-.94 2.06-2.06.94zm10 10l.94 2.06.94-2.06 2.06-.94-2.06-.94-.94-2.06-.94 2.06-2.06.94z\"/><path d=\"M17.41 7.96l-1.37-1.37c-.4-.4-.92-.59-1.43-.59-.52 0-1.04.2-1.43.59L10.3 9.45l-7.72 7.72c-.78.78-.78 2.05 0 2.83L4 21.41c.39.39.9.59 1.41.59.51 0 1.02-.2 1.41-.59l7.78-7.78 2.81-2.81c.8-.78.8-2.07 0-2.86zM5.41 20L4 18.59l7.72-7.72 1.47 1.35L5.41 20z\"/>\n",
              "  </svg>\n",
              "      </button>\n",
              "      \n",
              "  <style>\n",
              "    .colab-df-container {\n",
              "      display:flex;\n",
              "      flex-wrap:wrap;\n",
              "      gap: 12px;\n",
              "    }\n",
              "\n",
              "    .colab-df-convert {\n",
              "      background-color: #E8F0FE;\n",
              "      border: none;\n",
              "      border-radius: 50%;\n",
              "      cursor: pointer;\n",
              "      display: none;\n",
              "      fill: #1967D2;\n",
              "      height: 32px;\n",
              "      padding: 0 0 0 0;\n",
              "      width: 32px;\n",
              "    }\n",
              "\n",
              "    .colab-df-convert:hover {\n",
              "      background-color: #E2EBFA;\n",
              "      box-shadow: 0px 1px 2px rgba(60, 64, 67, 0.3), 0px 1px 3px 1px rgba(60, 64, 67, 0.15);\n",
              "      fill: #174EA6;\n",
              "    }\n",
              "\n",
              "    [theme=dark] .colab-df-convert {\n",
              "      background-color: #3B4455;\n",
              "      fill: #D2E3FC;\n",
              "    }\n",
              "\n",
              "    [theme=dark] .colab-df-convert:hover {\n",
              "      background-color: #434B5C;\n",
              "      box-shadow: 0px 1px 3px 1px rgba(0, 0, 0, 0.15);\n",
              "      filter: drop-shadow(0px 1px 2px rgba(0, 0, 0, 0.3));\n",
              "      fill: #FFFFFF;\n",
              "    }\n",
              "  </style>\n",
              "\n",
              "      <script>\n",
              "        const buttonEl =\n",
              "          document.querySelector('#df-f3baebdc-acf7-4a02-acaf-779f3efec407 button.colab-df-convert');\n",
              "        buttonEl.style.display =\n",
              "          google.colab.kernel.accessAllowed ? 'block' : 'none';\n",
              "\n",
              "        async function convertToInteractive(key) {\n",
              "          const element = document.querySelector('#df-f3baebdc-acf7-4a02-acaf-779f3efec407');\n",
              "          const dataTable =\n",
              "            await google.colab.kernel.invokeFunction('convertToInteractive',\n",
              "                                                     [key], {});\n",
              "          if (!dataTable) return;\n",
              "\n",
              "          const docLinkHtml = 'Like what you see? Visit the ' +\n",
              "            '<a target=\"_blank\" href=https://colab.research.google.com/notebooks/data_table.ipynb>data table notebook</a>'\n",
              "            + ' to learn more about interactive tables.';\n",
              "          element.innerHTML = '';\n",
              "          dataTable['output_type'] = 'display_data';\n",
              "          await google.colab.output.renderOutput(dataTable, element);\n",
              "          const docLink = document.createElement('div');\n",
              "          docLink.innerHTML = docLinkHtml;\n",
              "          element.appendChild(docLink);\n",
              "        }\n",
              "      </script>\n",
              "    </div>\n",
              "  </div>\n",
              "  "
            ]
          },
          "metadata": {},
          "execution_count": 162
        }
      ]
    },
    {
      "cell_type": "code",
      "source": [
        "# Layoffs by the  dates\n",
        "\n",
        "layoffs_data['reported_date'].value_counts().plot(kind = 'line')\n",
        "\n",
        "plt.title('Number of layoffs by  the dates of layoff.')\n",
        "plt.xlabel('Date of layoffs  or announcement')\n",
        "plt.ylabel('Number of layoffs by companies.')"
      ],
      "metadata": {
        "colab": {
          "base_uri": "https://localhost:8080/",
          "height": 310
        },
        "id": "XJHEGshsh215",
        "outputId": "18289b70-f877-44f7-dc73-cfec1d00060e"
      },
      "execution_count": 168,
      "outputs": [
        {
          "output_type": "execute_result",
          "data": {
            "text/plain": [
              "Text(0, 0.5, 'Number of layoffs by companies.')"
            ]
          },
          "metadata": {},
          "execution_count": 168
        },
        {
          "output_type": "display_data",
          "data": {
            "text/plain": [
              "<Figure size 432x288 with 1 Axes>"
            ],
            "image/png": "[encoded data removed]"
          },
          "metadata": {
            "needs_background": "light"
          }
        }
      ]
    },
    {
      "cell_type": "code",
      "source": [
        "# Layoffs by headquarter location.\n",
        "\n",
        "layoffs_data['headquarter_location'].value_counts().head(10).plot(kind = 'bar')\n",
        "\n",
        "plt.title(\"Layoffs by companie's headquarter location.\")\n",
        "plt.xlabel(\"Commpany's headquarter location.\")\n",
        "plt.ylabel(\"Number of companies with layoffs\")"
      ],
      "metadata": {
        "colab": {
          "base_uri": "https://localhost:8080/",
          "height": 389
        },
        "id": "cdgVcSB7jjp7",
        "outputId": "2164116a-b00e-47f3-ecf1-93cbdffd533b"
      },
      "execution_count": 164,
      "outputs": [
        {
          "output_type": "execute_result",
          "data": {
            "text/plain": [
              "Text(0, 0.5, 'Number of companies with layoffs')"
            ]
          },
          "metadata": {},
          "execution_count": 164
        },
        {
          "output_type": "display_data",
          "data": {
            "text/plain": [
              "<Figure size 432x288 with 1 Axes>"
            ],
            "image/png": "[encoded data removed]"
          },
          "metadata": {
            "needs_background": "light"
          }
        }
      ]
    },
    {
      "cell_type": "code",
      "source": [
        "# Layoffs by the nature of companies.\n",
        "\n",
        "labels = ['Private', 'Public']\n",
        "\n",
        "fig, ax = plt.subplots()\n",
        "ax.pie(layoffs_data['status'].value_counts(), labels=labels, wedgeprops=dict(width=0.4, edgecolor='w'))\n",
        "ax.axis('equal')\n",
        "center_circle = plt.Circle((0,0),0.2,color='white', fc='white',linewidth=0)\n",
        "ax.add_artist(center_circle)\n",
        "\n",
        "plt.title('Layoffs by nature of companies')"
      ],
      "metadata": {
        "colab": {
          "base_uri": "https://localhost:8080/",
          "height": 280
        },
        "id": "zabrgnn04HB4",
        "outputId": "e074817d-5b85-476e-bfd2-60f725d3f15d"
      },
      "execution_count": 165,
      "outputs": [
        {
          "output_type": "execute_result",
          "data": {
            "text/plain": [
              "Text(0.5, 1.0, 'Layoffs by nature of companies')"
            ]
          },
          "metadata": {},
          "execution_count": 165
        },
        {
          "output_type": "display_data",
          "data": {
            "text/plain": [
              "<Figure size 432x288 with 1 Axes>"
            ],
            "image/png": "[encoded data removed]"
          },
          "metadata": {}
        }
      ]
    },
    {
      "cell_type": "code",
      "source": [
        "# Layoffs announcement platforms\n",
        "\n",
        "layoffs_data['sources'].value_counts().head().plot(kind = 'bar')\n",
        "\n",
        "plt.title('Source of layoff information.')\n",
        "plt.xlabel('Source of information.')\n",
        "plt.ylabel('Number of announcements.')"
      ],
      "metadata": {
        "colab": {
          "base_uri": "https://localhost:8080/",
          "height": 378
        },
        "id": "Vq34OH6rOu7O",
        "outputId": "d3f7b64b-6d4f-4b23-d916-b1440a9d3b00"
      },
      "execution_count": 166,
      "outputs": [
        {
          "output_type": "execute_result",
          "data": {
            "text/plain": [
              "Text(0, 0.5, 'Number of announcements.')"
            ]
          },
          "metadata": {},
          "execution_count": 166
        },
        {
          "output_type": "display_data",
          "data": {
            "text/plain": [
              "<Figure size 432x288 with 1 Axes>"
            ],
            "image/png": "[encoded data removed]"
          },
          "metadata": {
            "needs_background": "light"
          }
        }
      ]
    },
    {
      "cell_type": "code",
      "source": [
        "# Relationship between the status of the company and the total layoffs.\n",
        "\n",
        "sns.scatterplot(y = layoffs_data['status'], x = layoffs_data['total_layoffs'].head(10))"
      ],
      "metadata": {
        "colab": {
          "base_uri": "https://localhost:8080/",
          "height": 300
        },
        "id": "ZKldCGZMdXbN",
        "outputId": "78886f3b-d54d-435f-f7bd-70faab45cc06"
      },
      "execution_count": 167,
      "outputs": [
        {
          "output_type": "execute_result",
          "data": {
            "text/plain": [
              "<AxesSubplot:xlabel='total_layoffs', ylabel='status'>"
            ]
          },
          "metadata": {},
          "execution_count": 167
        },
        {
          "output_type": "display_data",
          "data": {
            "text/plain": [
              "<Figure size 432x288 with 1 Axes>"
            ],
            "image/png": "[encoded data removed]"
          },
          "metadata": {
            "needs_background": "light"
          }
        }
      ]
    },
    {
      "cell_type": "markdown",
      "source": [
        "# **Conclusion.**"
      ],
      "metadata": {
        "id": "Zl6P3sACL98d"
      }
    },
    {
      "cell_type": "markdown",
      "source": [
        "1. Most of the layoffs took place in companies whose headquarters were located in  San Francisco.\n",
        "2. Most of the layoffs happenned in Private companies.\n",
        "3. Most of the layoffs took place in January 2023.\n",
        "4. The Fintech industry experienced the highest number of layoffs.\n",
        "5. The highest number of companies did not state their total number of layoffs.\n",
        "6. Most of the layoff news were released by TechCrunch."
      ],
      "metadata": {
        "id": "opf5hCWrMCCD"
      }
    }
  ]
}